{
 "cells": [
  {
   "cell_type": "markdown",
   "metadata": {},
   "source": [
    "### Question 1.\n",
    "Write a program to populate and then sort a randomly distributed list of ten million integers,\n",
    "each integer having a value >=1 and <=100 without using any built-in/ external library/function\n",
    "for sorting.<p>\n",
    "Your program should carefully consider the input and come up with the most efficient sorting\n",
    "solution you can think of.<p>\n",
    "Provide the space and time complexity of your algorithm"
   ]
  },
  {
   "cell_type": "markdown",
   "metadata": {},
   "source": [
    "### Solution"
   ]
  },
  {
   "cell_type": "code",
   "execution_count": 1,
   "metadata": {},
   "outputs": [
    {
     "name": "stdout",
     "output_type": "stream",
     "text": [
      "True\n"
     ]
    }
   ],
   "source": [
    "# Importing library for selecting random integers between given range\n",
    "from random import randint\n",
    "\n",
    "# List of random generated number between 1 and 100\n",
    "numbers_list = [randint(1,100) for i in range(0,10000000)]\n",
    "\n",
    "# To store the occurence of give number initially it was assigned to \"0\" int value\n",
    "num_occ = [0 for i in range(100)]\n",
    "\n",
    "# Store the total count of each intergers to a num_acc list\n",
    "for i in numbers_list:\n",
    "    num_occ[i-1] += 1\n",
    "    \n",
    "# To store the final sorted list\n",
    "sorted_list = []\n",
    "\n",
    "# Counter start with 1\n",
    "initial_number = 1\n",
    "\n",
    "for i in num_occ:\n",
    "    \n",
    "    # To store the list of constant length of given integer i.e., no of occurance of given integer\n",
    "    # Append the above sorted list of single element to final output\n",
    "    sorted_list += [initial_number for j in range(i)]\n",
    "    \n",
    "    # Increment to counter for next number\n",
    "    initial_number += 1\n",
    "\n",
    "# Check if list is sorted or not\n",
    "print(sorted_list== sorted(numbers_list))"
   ]
  },
  {
   "cell_type": "markdown",
   "metadata": {},
   "source": [
    "<b>Time complexity (Auxillary Space):</b><p>\n",
    "   => O(n) + O(m) + O(n) + O(m)*O(i)  Here n = 10000000 and m = 100 <p>\n",
    "   => O(n) + O(m) + O(n) + O(m*i)<p>\n",
    "   => O(n) + O(m*i)<p>\n",
    "   => if m*i is equal to n, Best Case : O(n)<p>\n",
    "   => otherwise, Worst Case : O(m*i)<p>\n",
    "                \n",
    "<b>Space Complexity: Auxillary space + Space used by inputs</b><p>\n",
    "    Space used by input:<p>\n",
    "    => O(n) + O(m) + O(n) + O(m)<p> \n",
    "    => O(n) because n >> m<p>\n",
    "        \n",
    "    So, Space Complexity in Best Case is O(n) and in Worst Case O(m*i)"
   ]
  },
  {
   "cell_type": "markdown",
   "metadata": {},
   "source": [
    "### Question 2.\n",
    "\n",
    "A/B Testing is a very common technique to evaluate effectiveness of changes in a user\n",
    "interface. You show some users interface A (an existing design), and to others you show\n",
    "interface B (a newer design), and then check if people search more with the new design or still\n",
    "prefer the older design.<p>\n",
    "The attached dataset “searches.json” contains data from one such A/B testing experiment.\n",
    "Each line in this file represents data of one user’s interactions. The following data is collected\n",
    "for each user:<p>\n",
    "● uid: unique user id - users with an odd-numbered uid were shown the new design (B)<p>\n",
    "● is_instructor: Instructors are testers or presenters who demonstrate search functionality\n",
    "to prospective clients.<p>\n",
    "● login_count: number of times the user logged in<p>\n",
    "● search_count: number of times the user used the search feature<p>\n",
    "Write a program that answers the questions:<p>\n",
    "● Did more users use the search feature in the new design (B)?<p>\n",
    "● Did users search more often in the new design (B)?<p>"
   ]
  },
  {
   "cell_type": "markdown",
   "metadata": {},
   "source": [
    "### Solution"
   ]
  },
  {
   "cell_type": "code",
   "execution_count": 2,
   "metadata": {},
   "outputs": [],
   "source": [
    "# Importing libraries\n",
    "\n",
    "import numpy as np\n",
    "import pandas as pd\n",
    "from scipy import stats\n",
    "import seaborn as sns"
   ]
  },
  {
   "cell_type": "code",
   "execution_count": 3,
   "metadata": {},
   "outputs": [],
   "source": [
    "# Reading the json dataset file and setting index value to unique column uid\n",
    "dataset = pd.read_json('searches.json',lines=True)"
   ]
  },
  {
   "cell_type": "code",
   "execution_count": 4,
   "metadata": {},
   "outputs": [
    {
     "data": {
      "text/html": [
       "<div>\n",
       "<style scoped>\n",
       "    .dataframe tbody tr th:only-of-type {\n",
       "        vertical-align: middle;\n",
       "    }\n",
       "\n",
       "    .dataframe tbody tr th {\n",
       "        vertical-align: top;\n",
       "    }\n",
       "\n",
       "    .dataframe thead th {\n",
       "        text-align: right;\n",
       "    }\n",
       "</style>\n",
       "<table border=\"1\" class=\"dataframe\">\n",
       "  <thead>\n",
       "    <tr style=\"text-align: right;\">\n",
       "      <th></th>\n",
       "      <th>is_instructor</th>\n",
       "      <th>login_count</th>\n",
       "      <th>search_count</th>\n",
       "      <th>uid</th>\n",
       "    </tr>\n",
       "  </thead>\n",
       "  <tbody>\n",
       "    <tr>\n",
       "      <th>0</th>\n",
       "      <td>True</td>\n",
       "      <td>1</td>\n",
       "      <td>2</td>\n",
       "      <td>6061521</td>\n",
       "    </tr>\n",
       "    <tr>\n",
       "      <th>1</th>\n",
       "      <td>False</td>\n",
       "      <td>4</td>\n",
       "      <td>0</td>\n",
       "      <td>11986457</td>\n",
       "    </tr>\n",
       "    <tr>\n",
       "      <th>2</th>\n",
       "      <td>False</td>\n",
       "      <td>1</td>\n",
       "      <td>0</td>\n",
       "      <td>15995765</td>\n",
       "    </tr>\n",
       "    <tr>\n",
       "      <th>3</th>\n",
       "      <td>True</td>\n",
       "      <td>3</td>\n",
       "      <td>0</td>\n",
       "      <td>9106912</td>\n",
       "    </tr>\n",
       "    <tr>\n",
       "      <th>4</th>\n",
       "      <td>False</td>\n",
       "      <td>1</td>\n",
       "      <td>0</td>\n",
       "      <td>9882383</td>\n",
       "    </tr>\n",
       "  </tbody>\n",
       "</table>\n",
       "</div>"
      ],
      "text/plain": [
       "   is_instructor  login_count  search_count       uid\n",
       "0           True            1             2   6061521\n",
       "1          False            4             0  11986457\n",
       "2          False            1             0  15995765\n",
       "3           True            3             0   9106912\n",
       "4          False            1             0   9882383"
      ]
     },
     "execution_count": 4,
     "metadata": {},
     "output_type": "execute_result"
    }
   ],
   "source": [
    "dataset.head()"
   ]
  },
  {
   "cell_type": "code",
   "execution_count": 5,
   "metadata": {},
   "outputs": [
    {
     "data": {
      "text/plain": [
       "9.820628220534376e-68"
      ]
     },
     "execution_count": 5,
     "metadata": {},
     "output_type": "execute_result"
    }
   ],
   "source": [
    "stats.normaltest(dataset['login_count']).pvalue"
   ]
  },
  {
   "cell_type": "markdown",
   "metadata": {},
   "source": [
    "p >> 0.05. This is not a normal distribution"
   ]
  },
  {
   "cell_type": "code",
   "execution_count": 6,
   "metadata": {},
   "outputs": [
    {
     "name": "stderr",
     "output_type": "stream",
     "text": [
      "C:\\Users\\NITIN\\Anaconda3\\lib\\site-packages\\matplotlib\\axes\\_axes.py:6462: UserWarning: The 'normed' kwarg is deprecated, and has been replaced by the 'density' kwarg.\n",
      "  warnings.warn(\"The 'normed' kwarg is deprecated, and has been \"\n"
     ]
    },
    {
     "data": {
      "text/plain": [
       "<matplotlib.axes._subplots.AxesSubplot at 0x1a622ae90b8>"
      ]
     },
     "execution_count": 6,
     "metadata": {},
     "output_type": "execute_result"
    },
    {
     "data": {
      "image/png": "[encoded data removed]",
      "text/plain": [
       "<Figure size 432x288 with 1 Axes>"
      ]
     },
     "metadata": {},
     "output_type": "display_data"
    }
   ],
   "source": [
    "sns.distplot(dataset['login_count'], fit=stats.norm)"
   ]
  },
  {
   "cell_type": "code",
   "execution_count": 7,
   "metadata": {},
   "outputs": [
    {
     "name": "stderr",
     "output_type": "stream",
     "text": [
      "C:\\Users\\NITIN\\Anaconda3\\lib\\site-packages\\matplotlib\\axes\\_axes.py:6462: UserWarning: The 'normed' kwarg is deprecated, and has been replaced by the 'density' kwarg.\n",
      "  warnings.warn(\"The 'normed' kwarg is deprecated, and has been \"\n"
     ]
    },
    {
     "data": {
      "text/plain": [
       "<matplotlib.axes._subplots.AxesSubplot at 0x1a622ee4198>"
      ]
     },
     "execution_count": 7,
     "metadata": {},
     "output_type": "execute_result"
    },
    {
     "data": {
      "image/png": "[encoded data removed]",
      "text/plain": [
       "<Figure size 432x288 with 1 Axes>"
      ]
     },
     "metadata": {},
     "output_type": "display_data"
    }
   ],
   "source": [
    "sns.distplot(np.log(dataset['login_count']), fit=stats.norm)"
   ]
  },
  {
   "cell_type": "markdown",
   "metadata": {},
   "source": [
    "The number of search for login count is not normally distributed. Transforming does not make it look normal\n",
    "\n",
    "Using any transformation does not make it normally distributed because mostly data is integer(zero) on other columns.\n",
    "\n",
    "<b> So, Using Non-Parametric tests"
   ]
  },
  {
   "cell_type": "markdown",
   "metadata": {},
   "source": [
    "#### Here i am using p-hacking for statistical analysis"
   ]
  },
  {
   "cell_type": "code",
   "execution_count": 8,
   "metadata": {},
   "outputs": [],
   "source": [
    "# Users with odd uid were shown in design B\n",
    "users_design_A = dataset[dataset['uid']%2==0]\n",
    "users_design_B = dataset[dataset['uid']%2!=0]"
   ]
  },
  {
   "cell_type": "markdown",
   "metadata": {},
   "source": [
    "Chi2 contigency test"
   ]
  },
  {
   "cell_type": "code",
   "execution_count": 9,
   "metadata": {},
   "outputs": [
    {
     "name": "stdout",
     "output_type": "stream",
     "text": [
      "P-value:  0.16762970944995664\n"
     ]
    }
   ],
   "source": [
    "# users who used search features atleast one time\n",
    "design_B_nonzerocount = users_design_B[users_design_B['search_count']>0].count()\n",
    "design_A_nonzerocount = users_design_A[users_design_A['search_count']>0].count()\n",
    "\n",
    "# users who does not used search features\n",
    "design_B_zerocount = users_design_B[users_design_B['search_count']==0].count()\n",
    "design_A_zerocount = users_design_A[users_design_A['search_count']==0].count()\n",
    "\n",
    "# Contigency table that contained observed frequency for each categories\n",
    "observed_search_count2 = [[design_B_nonzerocount['uid'], design_B_zerocount['uid']], \n",
    "                             [design_A_nonzerocount['uid'], design_A_zerocount['uid']]]\n",
    "chi2_test2 = stats.chi2_contingency(observed_search_count2)\n",
    "print(\"P-value: \",chi2_test2[1])"
   ]
  },
  {
   "cell_type": "markdown",
   "metadata": {},
   "source": [
    "Mann–Whitney U test"
   ]
  },
  {
   "cell_type": "code",
   "execution_count": 10,
   "metadata": {},
   "outputs": [
    {
     "data": {
      "text/plain": [
       "0.07059103623543486"
      ]
     },
     "execution_count": 10,
     "metadata": {},
     "output_type": "execute_result"
    }
   ],
   "source": [
    "mwu_test = stats.mannwhitneyu(users_design_A['search_count'], users_design_B['search_count']).pvalue\n",
    "mwu_test"
   ]
  },
  {
   "cell_type": "markdown",
   "metadata": {},
   "source": [
    "###### Solution (a) - No\n",
    "P-value > 0.05\n",
    "Null hypothesis is not rejected.\n",
    "Features are independent. Therefore, <b>no increase in search feature on using new design(B).<b>"
   ]
  },
  {
   "cell_type": "markdown",
   "metadata": {},
   "source": [
    "Analysing the data gave me the insight that users does not gave useful information on new search features. May be Instructors does not show the search features to clients because it was not relevant to them.\n",
    "\n",
    "I am repeating the above hypothesis only at instructors."
   ]
  },
  {
   "cell_type": "code",
   "execution_count": 11,
   "metadata": {},
   "outputs": [],
   "source": [
    "# Filtering the dataset by considering instructor shown the features\n",
    "instructor_design_A = users_design_A[users_design_A['is_instructor'] == True]\n",
    "instructor_design_B = users_design_B[users_design_B['is_instructor'] == True]"
   ]
  },
  {
   "cell_type": "markdown",
   "metadata": {},
   "source": [
    "Chi2 contigency test"
   ]
  },
  {
   "cell_type": "code",
   "execution_count": 12,
   "metadata": {},
   "outputs": [
    {
     "name": "stdout",
     "output_type": "stream",
     "text": [
      "P-value:  0.052001632770999166\n"
     ]
    }
   ],
   "source": [
    "# users who used search features atleast one time\n",
    "design_B_nonzerocount = instructor_design_B[instructor_design_B['search_count']>0].count()\n",
    "design_A_nonzerocount = instructor_design_A[instructor_design_A['search_count']>0].count()\n",
    "\n",
    "# users who does not used search features\n",
    "design_B_zerocount = instructor_design_B[instructor_design_B['search_count']==0].count()\n",
    "design_A_zerocount = instructor_design_A[instructor_design_A['search_count']==0].count()\n",
    "\n",
    "# Contigency table that contained observed frequency for each categories\n",
    "observed_search_count2 = [[design_B_nonzerocount['uid'], design_B_zerocount['uid']], \n",
    "                             [design_A_nonzerocount['uid'], design_A_zerocount['uid']]]\n",
    "chi2_test2 = stats.chi2_contingency(observed_search_count2)\n",
    "print(\"P-value: \",chi2_test2[1])"
   ]
  },
  {
   "cell_type": "markdown",
   "metadata": {},
   "source": [
    "Mann–Whitney U test"
   ]
  },
  {
   "cell_type": "code",
   "execution_count": 13,
   "metadata": {},
   "outputs": [
    {
     "data": {
      "text/plain": [
       "0.022479717008052572"
      ]
     },
     "execution_count": 13,
     "metadata": {},
     "output_type": "execute_result"
    }
   ],
   "source": [
    "mwu_test_instructor = stats.mannwhitneyu(instructor_design_A['search_count'], instructor_design_B['search_count']).pvalue\n",
    "mwu_test_instructor"
   ]
  },
  {
   "cell_type": "markdown",
   "metadata": {},
   "source": [
    "###### Solution (b) - No\n",
    "P-value < 0.05\n",
    "Null hypothesis is rejected.\n",
    "Features are dependent. Therefore, <b>instructor search more often new design(B).<b>"
   ]
  },
  {
   "cell_type": "code",
   "execution_count": null,
   "metadata": {},
   "outputs": [],
   "source": []
  }
 ],
 "metadata": {
  "kernelspec": {
   "display_name": "Python 3",
   "language": "python",
   "name": "python3"
  },
  "language_info": {
   "codemirror_mode": {
    "name": "ipython",
    "version": 3
   },
   "file_extension": ".py",
   "mimetype": "text/x-python",
   "name": "python",
   "nbconvert_exporter": "python",
   "pygments_lexer": "ipython3",
   "version": "3.8.8"
  }
 },
 "nbformat": 4,
 "nbformat_minor": 2
}
